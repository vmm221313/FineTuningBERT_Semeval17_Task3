{
 "cells": [
  {
   "cell_type": "code",
   "execution_count": null,
   "metadata": {},
   "outputs": [],
   "source": [
    "train = po.DataFrame(columns = ['Question1', 'Question2', 'Similarity'])\n",
    "for key in data:\n",
    "    for i in range(len(data[key])):\n",
    "        #print(data[key][i]['OrgQBody'])\n",
    "        for j in range(len(data[key][0]['Threads'])):\n",
    "            if len(data[key][i]['Threads'][j]['RelQuestion']['RelQBody']):\n",
    "                row = {'Question1': data[key][i]['OrgQBody'],\n",
    "                       'Question2': data[key][i]['Threads'][j]['RelQuestion']['RelQBody'],\n",
    "                       'Similarity': data[key][i]['Threads'][j]['RelQuestion']['RELQ_RELEVANCE2ORGQ']\n",
    "                      }\n",
    "                train = train.append(row, ignore_index=True)\n",
    "            #print(data[key][i]['Threads'][j]['RelQuestion']['RelQBody'])\n",
    "            #print(data[key][i]['Threads'][j]['RelQuestion']['RELQ_RELEVANCE2ORGQ'])\n",
    "            #print('\\n')\n",
    "        break\n",
    "    break"
   ]
  }
 ],
 "metadata": {
  "kernelspec": {
   "display_name": "Python 3",
   "language": "python",
   "name": "python3"
  },
  "language_info": {
   "codemirror_mode": {
    "name": "ipython",
    "version": 3
   },
   "file_extension": ".py",
   "mimetype": "text/x-python",
   "name": "python",
   "nbconvert_exporter": "python",
   "pygments_lexer": "ipython3",
   "version": "3.7.3"
  }
 },
 "nbformat": 4,
 "nbformat_minor": 2
}
